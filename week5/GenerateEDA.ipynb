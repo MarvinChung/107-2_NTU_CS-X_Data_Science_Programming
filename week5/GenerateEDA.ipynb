{
 "cells": [
  {
   "cell_type": "code",
   "execution_count": 1,
   "metadata": {},
   "outputs": [],
   "source": [
    "import numpy as np\n",
    "import os\n",
    "from datetime import datetime"
   ]
  },
  {
   "cell_type": "code",
   "execution_count": 2,
   "metadata": {},
   "outputs": [],
   "source": [
    "def date_structure(d):\n",
    "    date_format = \"%Y%m%d\"\n",
    "    #print(d)\n",
    "    return datetime.strptime(d, date_format)\n",
    "    "
   ]
  },
  {
   "cell_type": "code",
   "execution_count": 3,
   "metadata": {},
   "outputs": [],
   "source": [
    "people = {}"
   ]
  },
  {
   "cell_type": "code",
   "execution_count": 4,
   "metadata": {},
   "outputs": [],
   "source": [
    "max_index = 0;\n",
    "for root, dirs, files in os.walk(\"../week3/\"):\n",
    "    for _dir in dirs:\n",
    "        if(_dir.isnumeric()):\n",
    "            dir_name = os.path.join(root, _dir);\n",
    "            min_date = 99999999;\n",
    "            max_date = 0;\n",
    "            for f in os.listdir(dir_name):\n",
    "                f = f.replace('.txt','')\n",
    "                tokens = f.split('_')\n",
    "                for token in tokens:\n",
    "                    if(len(token) == 8 and token.isnumeric()):\n",
    "                        date = int(token)\n",
    "                        if(date < min_date):\n",
    "                            min_date = date;\n",
    "                        if(date > max_date):\n",
    "                            max_date = date;\n",
    "            contents = {'lift span': -1}\n",
    "            if(min_date != 99999999 and max_date!=0):\n",
    "                r_date = date_structure(str(max_date))\n",
    "                l_date = date_structure(str(min_date))\n",
    "                #print(r_date)\n",
    "                #print(l_date)\n",
    "                contents = {'life span':(r_date - l_date).days}\n",
    "\n",
    "            people[_dir] = contents;\n",
    "        #print(_dir)\n",
    "        #print(people[_dir]['life span'])\n",
    "        #input(\"\")"
   ]
  },
  {
   "cell_type": "code",
   "execution_count": 5,
   "metadata": {},
   "outputs": [],
   "source": [
    "x = []\n",
    "y = []\n",
    "for i in people:\n",
    "    x.append(int(i))\n",
    "    #print(str(i+1))\n",
    "    y.append(people[i]['life span'])"
   ]
  },
  {
   "cell_type": "code",
   "execution_count": 14,
   "metadata": {},
   "outputs": [
    {
     "data": {
      "text/plain": [
       "Text(0, 0.5, 'life span')"
      ]
     },
     "execution_count": 14,
     "metadata": {},
     "output_type": "execute_result"
    },
    {
     "data": {
      "image/png": "[encoded data removed]",
      "text/plain": [
       "<Figure size 432x288 with 1 Axes>"
      ]
     },
     "metadata": {
      "needs_background": "light"
     },
     "output_type": "display_data"
    }
   ],
   "source": [
    "import matplotlib.pyplot as plt\n",
    "plt.scatter(x,y)\n",
    "plt.xlabel('patients id')\n",
    "plt.ylabel('life span')"
   ]
  },
  {
   "cell_type": "code",
   "execution_count": null,
   "metadata": {},
   "outputs": [],
   "source": []
  }
 ],
 "metadata": {
  "kernelspec": {
   "display_name": "Python 3",
   "language": "python",
   "name": "python3"
  },
  "language_info": {
   "codemirror_mode": {
    "name": "ipython",
    "version": 3
   },
   "file_extension": ".py",
   "mimetype": "text/x-python",
   "name": "python",
   "nbconvert_exporter": "python",
   "pygments_lexer": "ipython3",
   "version": "3.6.8"
  }
 },
 "nbformat": 4,
 "nbformat_minor": 2
}
