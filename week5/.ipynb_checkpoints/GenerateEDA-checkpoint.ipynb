{
 "cells": [
  {
   "cell_type": "code",
   "execution_count": 71,
   "metadata": {},
   "outputs": [],
   "source": [
    "import numpy as np\n",
    "import os\n",
    "from datetime import datetime"
   ]
  },
  {
   "cell_type": "code",
   "execution_count": 72,
   "metadata": {},
   "outputs": [],
   "source": [
    "def date_structure(d):\n",
    "    date_format = \"%Y%m%d\"\n",
    "    return datetime.strptime(d, date_format)\n",
    "    "
   ]
  },
  {
   "cell_type": "code",
   "execution_count": 73,
   "metadata": {},
   "outputs": [],
   "source": [
    "people = {}"
   ]
  },
  {
   "cell_type": "code",
   "execution_count": null,
   "metadata": {},
   "outputs": [
    {
     "name": "stdout",
     "output_type": "stream",
     "text": [
      "2017-03-31 00:00:00\n",
      "2017-03-21 00:00:00\n",
      "110\n",
      "10\n",
      "\n",
      "2015-01-23 00:00:00\n",
      "2014-12-23 00:00:00\n",
      "6\n",
      "31\n",
      "\n",
      "2015-10-17 00:00:00\n",
      "2015-10-01 00:00:00\n",
      "43\n",
      "16\n",
      "\n",
      "2015-04-23 00:00:00\n",
      "2015-04-07 00:00:00\n",
      "25\n",
      "16\n"
     ]
    }
   ],
   "source": [
    "max_index = 0;\n",
    "for root, dirs, files in os.walk(\"../week3/\"):\n",
    "    for _dir in dirs:\n",
    "        dir_name = os.path.join(root, _dir);\n",
    "        min_date = 99999999;\n",
    "        max_date = 0;\n",
    "        for f in os.listdir(dir_name):\n",
    "            f = f.replace('.txt','')\n",
    "            tokens = f.split('_')\n",
    "            for token in tokens:\n",
    "                if(len(token) == 8 and token.isnumeric()):\n",
    "                    date = int(token)\n",
    "                    if(date < min_date):\n",
    "                        min_date = date;\n",
    "                    if(date > max_date):\n",
    "                        max_date = date;\n",
    "        r_date = date_structure(str(max_date))\n",
    "        l_date = date_structure(str(min_date))\n",
    "        #print(r_date)\n",
    "        #print(l_date)\n",
    "        contents = {'life span':(r_date - l_date).days}\n",
    "            \n",
    "        people[_dir] = contents;\n",
    "        #print(_dir)\n",
    "        #print(people[_dir]['life span'])\n",
    "        #input(\"\")"
   ]
  },
  {
   "cell_type": "code",
   "execution_count": null,
   "metadata": {},
   "outputs": [],
   "source": []
  }
 ],
 "metadata": {
  "kernelspec": {
   "display_name": "Python 3",
   "language": "python",
   "name": "python3"
  },
  "language_info": {
   "codemirror_mode": {
    "name": "ipython",
    "version": 3
   },
   "file_extension": ".py",
   "mimetype": "text/x-python",
   "name": "python",
   "nbconvert_exporter": "python",
   "pygments_lexer": "ipython3",
   "version": "3.6.8"
  }
 },
 "nbformat": 4,
 "nbformat_minor": 2
}
